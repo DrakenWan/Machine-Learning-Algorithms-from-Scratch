{
 "cells": [
  {
   "cell_type": "markdown",
   "metadata": {},
   "source": [
    "### Finding Euclidean distance using numpy.linalg.norm"
   ]
  },
  {
   "cell_type": "code",
   "execution_count": 1,
   "metadata": {},
   "outputs": [
    {
     "name": "stdout",
     "output_type": "stream",
     "text": [
      "Distance:  1.4142135623730951\n"
     ]
    }
   ],
   "source": [
    "import numpy as np\n",
    "\n",
    "a = np.array([1,2])\n",
    "b = np.array([2,3])\n",
    "\n",
    "dist = np.linalg.norm(b-a)\n",
    "print(\"Distance: \",dist)"
   ]
  },
  {
   "cell_type": "markdown",
   "metadata": {},
   "source": [
    "## KMeans Clustering"
   ]
  },
  {
   "cell_type": "code",
   "execution_count": 2,
   "metadata": {},
   "outputs": [],
   "source": [
    "import numpy as np\n",
    "\n",
    "class Kmeans:\n",
    "    def __init__(self, k = 5, centroids = None, tolerance = 0.0001, n_iter = 500):\n",
    "        '''\n",
    "        k  = number of clusters, default is 5\n",
    "        centroids = can be provided in an array of centroids to start with, \n",
    "                    if not then starting k row from data is selected as centroid.\n",
    "        tolerance = default is 0.0001\n",
    "        n_iter = default is 500\n",
    "        '''\n",
    "        \n",
    "        self.k = k\n",
    "        self.centroids = centroids\n",
    "        self.tolerance = tolerance\n",
    "        self.n_iter = n_iter\n",
    "        self.clusters = {}\n",
    "        \n",
    "    #Function to fit the data    \n",
    "    def fit(self, data):\n",
    "        if self.centroids is None:\n",
    "            self.centroids = {}\n",
    "            for i in range(self.k):\n",
    "                self.centroids[i] = data[i]\n",
    "        else:\n",
    "            #Check if given centroids array has k centroid \n",
    "            assert self.k == len(self.centroids), \"len of centroids array must be equal to k\"\n",
    "            c = {}\n",
    "            for i in range(len(self.centroids)):\n",
    "                c[i] = self.centroids[i]\n",
    "            self.centroids = c\n",
    "        \n",
    "        #KMeans loop\n",
    "        for i in range(self.n_iter):\n",
    "            for i in range(self.k):\n",
    "                self.clusters[i] = []\n",
    "                \n",
    "            #Calculating distance and assigning cluster\n",
    "            for row in data:\n",
    "                dist = [np.linalg.norm(row - self.centroids[c]) for c in self.centroids.keys()]\n",
    "                cluster = dist.index(min(dist))\n",
    "                self.clusters[cluster].append(row)\n",
    "\n",
    "            prev_centroids = dict(self.centroids)\n",
    "            \n",
    "            #Claculating new centroid of each cluster by averaging\n",
    "            for cluster in self.clusters.keys():\n",
    "                self.centroids[cluster] = np.average(self.clusters[cluster], axis=0)\n",
    "\n",
    "            isSol = True\n",
    "            for c in self.centroids.keys():\n",
    "                prev = prev_centroids[i]\n",
    "                curr = self.centroids[c]\n",
    "\n",
    "                if np.sum((curr-prev)/prev * 100.0) > self.tolerance:\n",
    "                    isSol = False\n",
    "            if isSol:\n",
    "                break\n",
    "    \n",
    "    #Function to predict the cluster\n",
    "    def predict(self, data):\n",
    "        dist = [np.linalg.norm(data-self.centroids[c]) for c in self.centroids.keys()]\n",
    "        cluster = dist.index(min(dist))\n",
    "        return cluster\n",
    "    \n",
    "    #Function to show cluster no. and cluster data\n",
    "    def clusters_(self):\n",
    "        print(\"Cluster # \\t Cluster\")\n",
    "        for c, cluster in self.clusters.items():\n",
    "            print(c,\"\\t\\t\",cluster)\n",
    "            "
   ]
  },
  {
   "cell_type": "markdown",
   "metadata": {},
   "source": [
    "### <i>Demo</i>"
   ]
  },
  {
   "cell_type": "code",
   "execution_count": 3,
   "metadata": {},
   "outputs": [
    {
     "name": "stdout",
     "output_type": "stream",
     "text": [
      "Pred:  2\n",
      "Centroids:  {0: 2.0, 1: 7.0, 2: 28.0}\n",
      "Cluster # \t Cluster\n",
      "0 \t\t [1, 2, 3]\n",
      "1 \t\t [5, 6, 8, 9]\n",
      "2 \t\t [23, 33]\n"
     ]
    }
   ],
   "source": [
    "x = np.array([1,2,3,5,6,8,9,23,33])\n",
    "\n",
    "km = Kmeans(k = 3)\n",
    "km.fit(x)\n",
    "print(\"Pred: \", km.predict(55))\n",
    "print(\"Centroids: \",km.centroids)\n",
    "km.clusters_()"
   ]
  },
  {
   "cell_type": "markdown",
   "metadata": {},
   "source": [
    "### <i>Providing centroids</i>"
   ]
  },
  {
   "cell_type": "code",
   "execution_count": 4,
   "metadata": {},
   "outputs": [
    {
     "name": "stdout",
     "output_type": "stream",
     "text": [
      "Pred:  0\n",
      "Centroids:  {0: 2.0, 1: 7.0, 2: 28.0}\n",
      "Cluster # \t Cluster\n",
      "0 \t\t [1, 2, 3]\n",
      "1 \t\t [5, 6, 8, 9]\n",
      "2 \t\t [23, 33]\n"
     ]
    }
   ],
   "source": [
    "km1 = Kmeans(k=3, centroids = [2,3,22])\n",
    "km1.fit(x)\n",
    "print(\"Pred: \", km1.predict(4))\n",
    "print(\"Centroids: \",km1.centroids)\n",
    "km1.clusters_()"
   ]
  },
  {
   "cell_type": "markdown",
   "metadata": {},
   "source": [
    "### <i>Timeit</i>"
   ]
  },
  {
   "cell_type": "code",
   "execution_count": 5,
   "metadata": {},
   "outputs": [
    {
     "name": "stdout",
     "output_type": "stream",
     "text": [
      "1.15 ms ± 17.2 µs per loop (mean ± std. dev. of 7 runs, 1000 loops each)\n"
     ]
    }
   ],
   "source": [
    "%%timeit\n",
    "km2 = Kmeans(k=3)\n",
    "km2.fit(x)\n",
    "km2.predict(15)"
   ]
  }
 ],
 "metadata": {
  "kernelspec": {
   "display_name": "Python 3",
   "language": "python",
   "name": "python3"
  },
  "language_info": {
   "codemirror_mode": {
    "name": "ipython",
    "version": 3
   },
   "file_extension": ".py",
   "mimetype": "text/x-python",
   "name": "python",
   "nbconvert_exporter": "python",
   "pygments_lexer": "ipython3",
   "version": "3.7.7"
  }
 },
 "nbformat": 4,
 "nbformat_minor": 4
}
